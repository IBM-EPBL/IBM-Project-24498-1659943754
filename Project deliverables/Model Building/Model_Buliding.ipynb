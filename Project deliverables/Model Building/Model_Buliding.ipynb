{
  "nbformat": 4,
  "nbformat_minor": 0,
  "metadata": {
    "colab": {
      "provenance": []
    },
    "kernelspec": {
      "name": "python3",
      "display_name": "Python 3"
    },
    "language_info": {
      "name": "python"
    }
  },
  "cells": [
    {
      "cell_type": "markdown",
      "source": [
        "# **Load The Dataset**"
      ],
      "metadata": {
        "id": "CxPw0_CclXx6"
      }
    },
    {
      "cell_type": "code",
      "source": [
        "from google.colab import drive\n",
        "drive.mount('/content/drive')"
      ],
      "metadata": {
        "colab": {
          "base_uri": "https://localhost:8080/"
        },
        "id": "-Y8vRXL8bjlM",
        "outputId": "50585a42-c566-4496-d046-1224c769a3b5"
      },
      "execution_count": 1,
      "outputs": [
        {
          "output_type": "stream",
          "name": "stdout",
          "text": [
            "Mounted at /content/drive\n"
          ]
        }
      ]
    },
    {
      "cell_type": "code",
      "source": [
        "Data_trainpath='/content/drive/MyDrive/Dataset/TRAIN_SET'"
      ],
      "metadata": {
        "id": "tSxNjOmll50R"
      },
      "execution_count": 2,
      "outputs": []
    },
    {
      "cell_type": "code",
      "source": [
        "Data_testpath='/content/drive/MyDrive/Dataset/TEST_SET'"
      ],
      "metadata": {
        "id": "oTOpzKntmb7g"
      },
      "execution_count": 3,
      "outputs": []
    },
    {
      "cell_type": "markdown",
      "source": [
        "# **Image Preprocessing**"
      ],
      "metadata": {
        "id": "JSldFH1Bk0t8"
      }
    },
    {
      "cell_type": "markdown",
      "source": [
        "**Import The ImageDataGenerator Library**"
      ],
      "metadata": {
        "id": "cqiwcNjpkn2X"
      }
    },
    {
      "cell_type": "code",
      "execution_count": 4,
      "metadata": {
        "id": "Bke9Za3NDJcZ"
      },
      "outputs": [],
      "source": [
        "from keras.preprocessing.image import ImageDataGenerator"
      ]
    },
    {
      "cell_type": "markdown",
      "source": [
        "**Configure ImageDataGenerator Class**"
      ],
      "metadata": {
        "id": "v9vsyGvNk6nr"
      }
    },
    {
      "cell_type": "code",
      "source": [
        "train_datagen = ImageDataGenerator(rescale=1./255,shear_range=0.2,zoom_range=0.2,horizontal_flip=True)\n"
      ],
      "metadata": {
        "id": "zBZ8xXk0R41_"
      },
      "execution_count": 5,
      "outputs": []
    },
    {
      "cell_type": "code",
      "source": [
        "test_datagen=ImageDataGenerator(rescale=1./255)"
      ],
      "metadata": {
        "id": "VkgXdlDRZ2fp"
      },
      "execution_count": 6,
      "outputs": []
    },
    {
      "cell_type": "markdown",
      "source": [
        "**Apply Image DataGenerator Functionality To Trainset And Testset**"
      ],
      "metadata": {
        "id": "ZIJWKOfOlxFH"
      }
    },
    {
      "cell_type": "code",
      "source": [
        "x_train = train_datagen.flow_from_directory(Data_trainpath,target_size=(64,64),batch_size=5,color_mode='rgb',class_mode='sparse')"
      ],
      "metadata": {
        "colab": {
          "base_uri": "https://localhost:8080/"
        },
        "id": "LrBKPD2gmmrA",
        "outputId": "8cc2e807-17cd-4268-ba28-f8bcd58ff597"
      },
      "execution_count": 9,
      "outputs": [
        {
          "output_type": "stream",
          "name": "stdout",
          "text": [
            "Found 3492 images belonging to 5 classes.\n"
          ]
        }
      ]
    },
    {
      "cell_type": "code",
      "source": [
        "x_test = train_datagen.flow_from_directory(Data_testpath,target_size=(64,64),batch_size=5,color_mode='rgb',class_mode='sparse')"
      ],
      "metadata": {
        "colab": {
          "base_uri": "https://localhost:8080/"
        },
        "id": "ORvPGhhXnXUp",
        "outputId": "a88a290d-6d76-4da6-da02-ced673145f15"
      },
      "execution_count": 10,
      "outputs": [
        {
          "output_type": "stream",
          "name": "stdout",
          "text": [
            "Found 976 images belonging to 5 classes.\n"
          ]
        }
      ]
    },
    {
      "cell_type": "code",
      "source": [
        "print(x_train.class_indices)"
      ],
      "metadata": {
        "colab": {
          "base_uri": "https://localhost:8080/"
        },
        "id": "SClY7lpu7923",
        "outputId": "f69412e2-6a5b-4ab0-c13c-175386959ac0"
      },
      "execution_count": 11,
      "outputs": [
        {
          "output_type": "stream",
          "name": "stdout",
          "text": [
            "{'APPLES': 0, 'BANANA': 1, 'ORANGE': 2, 'PINEAPPLE': 3, 'WATERMELON': 4}\n"
          ]
        }
      ]
    },
    {
      "cell_type": "code",
      "source": [
        "print(x_test.class_indices)"
      ],
      "metadata": {
        "colab": {
          "base_uri": "https://localhost:8080/"
        },
        "id": "fevuinc48VFy",
        "outputId": "743e5314-3371-4da2-d297-40bcbb83d28e"
      },
      "execution_count": 12,
      "outputs": [
        {
          "output_type": "stream",
          "name": "stdout",
          "text": [
            "{'APPLES': 0, 'BANANA': 1, 'ORANGE': 2, 'PINEAPPLE': 3, 'WATERMELON': 4}\n"
          ]
        }
      ]
    },
    {
      "cell_type": "code",
      "source": [
        "from collections import Counter as c \n",
        "c(x_train .labels)"
      ],
      "metadata": {
        "colab": {
          "base_uri": "https://localhost:8080/"
        },
        "id": "4jakjf-z8hfi",
        "outputId": "eaf591ce-124d-419c-9cb9-503a9b0022b8"
      },
      "execution_count": 13,
      "outputs": [
        {
          "output_type": "execute_result",
          "data": {
            "text/plain": [
              "Counter({0: 995, 1: 1374, 2: 1019, 3: 50, 4: 54})"
            ]
          },
          "metadata": {},
          "execution_count": 13
        }
      ]
    },
    {
      "cell_type": "markdown",
      "source": [
        "# **Model Building**"
      ],
      "metadata": {
        "id": "KO7uQFt7l9CH"
      }
    },
    {
      "cell_type": "markdown",
      "source": [
        "**Importing The Model Building Libraries**"
      ],
      "metadata": {
        "id": "vYeWwmC1l7om"
      }
    },
    {
      "cell_type": "code",
      "source": [
        "import numpy as np\n",
        "import tensorflow\n",
        "from tensorflow.keras.models import Sequential \n",
        "from tensorflow.keras import layers \n",
        "from tensorflow.keras.layers import Dense,Flatten\n",
        "from tensorflow.keras.layers import Conv2D,MaxPooling2D,Dropout\n",
        "from keras.preprocessing.image import ImageDataGenerator"
      ],
      "metadata": {
        "id": "3VAQlDbSkPJ5"
      },
      "execution_count": 14,
      "outputs": []
    },
    {
      "cell_type": "markdown",
      "source": [
        "**Initializing The Model**"
      ],
      "metadata": {
        "id": "pfA5UpHcmGgC"
      }
    },
    {
      "cell_type": "code",
      "source": [
        "model=Sequential()"
      ],
      "metadata": {
        "id": "p-PndI22k_rK"
      },
      "execution_count": 15,
      "outputs": []
    },
    {
      "cell_type": "markdown",
      "source": [
        "**Adding CNN Layers**"
      ],
      "metadata": {
        "id": "ynad1NeEmKQM"
      }
    },
    {
      "cell_type": "markdown",
      "source": [
        "First Convolution Layer and pooling"
      ],
      "metadata": {
        "id": "4MHPc8xmmrIN"
      }
    },
    {
      "cell_type": "code",
      "source": [
        "model.add(Conv2D(32, (3, 3), input_shape=(64, 64, 3), activation='relu'))\n",
        "model.add(MaxPooling2D(pool_size=(2, 2)))"
      ],
      "metadata": {
        "id": "BKGpawy7lQkV"
      },
      "execution_count": 16,
      "outputs": []
    },
    {
      "cell_type": "markdown",
      "source": [
        "Second Convolution Layer and pooling"
      ],
      "metadata": {
        "id": "4FljqXn6m1Qd"
      }
    },
    {
      "cell_type": "code",
      "source": [
        "model.add(Conv2D(32, (3, 3), activation='relu'))\n",
        "model.add(MaxPooling2D(pool_size=(2, 2)))"
      ],
      "metadata": {
        "id": "8J-doKUpmbP1"
      },
      "execution_count": 17,
      "outputs": []
    },
    {
      "cell_type": "markdown",
      "source": [
        "Flatten layer"
      ],
      "metadata": {
        "id": "NHi6eI8KnHFf"
      }
    },
    {
      "cell_type": "code",
      "source": [
        "model.add(Flatten())"
      ],
      "metadata": {
        "id": "toe6m0svmjfS"
      },
      "execution_count": 18,
      "outputs": []
    },
    {
      "cell_type": "markdown",
      "source": [
        "**Adding Dense Layers**"
      ],
      "metadata": {
        "id": "_VzTvuzvnPYA"
      }
    },
    {
      "cell_type": "code",
      "source": [
        "model.add(Dense(units=128, activation='relu'))\n",
        "model.add(Dense(units=5, activation='softmax')) "
      ],
      "metadata": {
        "id": "wSA28Ny8jH1x"
      },
      "execution_count": 19,
      "outputs": []
    },
    {
      "cell_type": "code",
      "source": [
        "model.summary()"
      ],
      "metadata": {
        "colab": {
          "base_uri": "https://localhost:8080/"
        },
        "id": "dxE_T7A8lgsX",
        "outputId": "892267da-b9bb-4db0-db9e-97a36e447546"
      },
      "execution_count": 20,
      "outputs": [
        {
          "output_type": "stream",
          "name": "stdout",
          "text": [
            "Model: \"sequential\"\n",
            "_________________________________________________________________\n",
            " Layer (type)                Output Shape              Param #   \n",
            "=================================================================\n",
            " conv2d (Conv2D)             (None, 62, 62, 32)        896       \n",
            "                                                                 \n",
            " max_pooling2d (MaxPooling2D  (None, 31, 31, 32)       0         \n",
            " )                                                               \n",
            "                                                                 \n",
            " conv2d_1 (Conv2D)           (None, 29, 29, 32)        9248      \n",
            "                                                                 \n",
            " max_pooling2d_1 (MaxPooling  (None, 14, 14, 32)       0         \n",
            " 2D)                                                             \n",
            "                                                                 \n",
            " flatten (Flatten)           (None, 6272)              0         \n",
            "                                                                 \n",
            " dense (Dense)               (None, 128)               802944    \n",
            "                                                                 \n",
            " dense_1 (Dense)             (None, 5)                 645       \n",
            "                                                                 \n",
            "=================================================================\n",
            "Total params: 813,733\n",
            "Trainable params: 813,733\n",
            "Non-trainable params: 0\n",
            "_________________________________________________________________\n"
          ]
        }
      ]
    },
    {
      "cell_type": "markdown",
      "source": [
        "**Configure The Learning Process**"
      ],
      "metadata": {
        "id": "I8XJZfmEnXk-"
      }
    },
    {
      "cell_type": "code",
      "source": [
        "model.compile(optimizer='adam', loss='sparse_categorical_crossentropy', metrics=['accuracy']) "
      ],
      "metadata": {
        "id": "U2-NoqV2lrRL"
      },
      "execution_count": 21,
      "outputs": []
    },
    {
      "cell_type": "markdown",
      "source": [
        "**Train The Model**"
      ],
      "metadata": {
        "id": "N2LEjv9QncAP"
      }
    },
    {
      "cell_type": "code",
      "source": [
        "model.fit_generator(\n",
        "        generator=x_train,steps_per_epoch = len(x_train),\n",
        "        epochs=15, validation_data=x_test,validation_steps = len(x_test))"
      ],
      "metadata": {
        "colab": {
          "base_uri": "https://localhost:8080/"
        },
        "id": "AfktotNdlxKA",
        "outputId": "40b91ddd-5c1d-4c78-b086-7f4dda9c1079"
      },
      "execution_count": 22,
      "outputs": [
        {
          "output_type": "stream",
          "name": "stderr",
          "text": [
            "/usr/local/lib/python3.7/dist-packages/ipykernel_launcher.py:3: UserWarning: `Model.fit_generator` is deprecated and will be removed in a future version. Please use `Model.fit`, which supports generators.\n",
            "  This is separate from the ipykernel package so we can avoid doing imports until\n"
          ]
        },
        {
          "output_type": "stream",
          "name": "stdout",
          "text": [
            "Epoch 1/15\n",
            "699/699 [==============================] - 933s 1s/step - loss: 0.7478 - accuracy: 0.7228 - val_loss: 0.6479 - val_accuracy: 0.7643\n",
            "Epoch 2/15\n",
            "699/699 [==============================] - 43s 61ms/step - loss: 0.5850 - accuracy: 0.7941 - val_loss: 0.6027 - val_accuracy: 0.7961\n",
            "Epoch 3/15\n",
            "699/699 [==============================] - 41s 58ms/step - loss: 0.5283 - accuracy: 0.8064 - val_loss: 0.6776 - val_accuracy: 0.7664\n",
            "Epoch 4/15\n",
            "699/699 [==============================] - 39s 56ms/step - loss: 0.4930 - accuracy: 0.8230 - val_loss: 0.5407 - val_accuracy: 0.8043\n",
            "Epoch 5/15\n",
            "699/699 [==============================] - 41s 58ms/step - loss: 0.4620 - accuracy: 0.8259 - val_loss: 0.5942 - val_accuracy: 0.7736\n",
            "Epoch 6/15\n",
            "699/699 [==============================] - 41s 58ms/step - loss: 0.4349 - accuracy: 0.8408 - val_loss: 0.6177 - val_accuracy: 0.7715\n",
            "Epoch 7/15\n",
            "699/699 [==============================] - 39s 55ms/step - loss: 0.4055 - accuracy: 0.8462 - val_loss: 0.5708 - val_accuracy: 0.7971\n",
            "Epoch 8/15\n",
            "699/699 [==============================] - 43s 61ms/step - loss: 0.3919 - accuracy: 0.8571 - val_loss: 0.4557 - val_accuracy: 0.8504\n",
            "Epoch 9/15\n",
            "699/699 [==============================] - 44s 63ms/step - loss: 0.3472 - accuracy: 0.8697 - val_loss: 0.5714 - val_accuracy: 0.8309\n",
            "Epoch 10/15\n",
            "699/699 [==============================] - 44s 63ms/step - loss: 0.3513 - accuracy: 0.8766 - val_loss: 0.5235 - val_accuracy: 0.8391\n",
            "Epoch 11/15\n",
            "699/699 [==============================] - 43s 62ms/step - loss: 0.2960 - accuracy: 0.8935 - val_loss: 0.4929 - val_accuracy: 0.8494\n",
            "Epoch 12/15\n",
            "699/699 [==============================] - 46s 65ms/step - loss: 0.2846 - accuracy: 0.8943 - val_loss: 0.5114 - val_accuracy: 0.8258\n",
            "Epoch 13/15\n",
            "699/699 [==============================] - 39s 56ms/step - loss: 0.2540 - accuracy: 0.9006 - val_loss: 0.5052 - val_accuracy: 0.8494\n",
            "Epoch 14/15\n",
            "699/699 [==============================] - 41s 59ms/step - loss: 0.2519 - accuracy: 0.9098 - val_loss: 0.4420 - val_accuracy: 0.8473\n",
            "Epoch 15/15\n",
            "699/699 [==============================] - 43s 62ms/step - loss: 0.2280 - accuracy: 0.9118 - val_loss: 0.4650 - val_accuracy: 0.8443\n"
          ]
        },
        {
          "output_type": "execute_result",
          "data": {
            "text/plain": [
              "<keras.callbacks.History at 0x7fb26db27ed0>"
            ]
          },
          "metadata": {},
          "execution_count": 22
        }
      ]
    },
    {
      "cell_type": "markdown",
      "source": [
        "**Save The Model**"
      ],
      "metadata": {
        "id": "X6azBl9onlB8"
      }
    },
    {
      "cell_type": "code",
      "source": [
        "model.save('nutrition.h5')"
      ],
      "metadata": {
        "id": "ErL5stYBmH6q"
      },
      "execution_count": 23,
      "outputs": []
    },
    {
      "cell_type": "markdown",
      "source": [
        "**Test The Model**"
      ],
      "metadata": {
        "id": "dBM_2h4znpk1"
      }
    },
    {
      "cell_type": "code",
      "source": [
        "from tensorflow.keras.models import load_model\n",
        "from keras.preprocessing import image\n",
        "final_model = load_model(\"nutrition.h5\")"
      ],
      "metadata": {
        "id": "ggh6RjMBmLFU"
      },
      "execution_count": 24,
      "outputs": []
    },
    {
      "cell_type": "code",
      "source": [
        "from tensorflow.keras.utils import img_to_array"
      ],
      "metadata": {
        "id": "VxTRKv0arS65"
      },
      "execution_count": 25,
      "outputs": []
    },
    {
      "cell_type": "code",
      "source": [
        "img = tensorflow.keras.utils.load_img(\"/content/drive/MyDrive/Nutrition Image Analysis using CNN and Rapid API/Nutrition Analysis Using Image Classification/Flask/Sample_Images/Test_Image4.jpg\",grayscale=False,target_size= (64,64))\n",
        "x = img_to_array(img)\n",
        "x = np.expand_dims(x,axis = 0)\n",
        "pred =np.argmax(final_model.predict(x),axis=1)\n",
        "pred"
      ],
      "metadata": {
        "colab": {
          "base_uri": "https://localhost:8080/"
        },
        "id": "cLF01mUjmOvZ",
        "outputId": "ed2953d1-f37a-4217-c033-fe74923ab681"
      },
      "execution_count": 26,
      "outputs": [
        {
          "output_type": "stream",
          "name": "stdout",
          "text": [
            "1/1 [==============================] - 0s 101ms/step\n"
          ]
        },
        {
          "output_type": "execute_result",
          "data": {
            "text/plain": [
              "array([2])"
            ]
          },
          "metadata": {},
          "execution_count": 26
        }
      ]
    },
    {
      "cell_type": "code",
      "source": [
        "index=['APPLES', 'BANANA', 'ORANGE','PINEAPPLE','WATERMELON']\n",
        "result=index[pred[0]]\n",
        "result"
      ],
      "metadata": {
        "colab": {
          "base_uri": "https://localhost:8080/",
          "height": 36
        },
        "id": "O_e9b2iDnXDV",
        "outputId": "bf3041c2-31da-476e-8053-6192c49e120a"
      },
      "execution_count": 27,
      "outputs": [
        {
          "output_type": "execute_result",
          "data": {
            "text/plain": [
              "'ORANGE'"
            ],
            "application/vnd.google.colaboratory.intrinsic+json": {
              "type": "string"
            }
          },
          "metadata": {},
          "execution_count": 27
        }
      ]
    },
    {
      "cell_type": "code",
      "source": [
        "img"
      ],
      "metadata": {
        "colab": {
          "base_uri": "https://localhost:8080/",
          "height": 81
        },
        "id": "8Aw1M3Kp0tm3",
        "outputId": "80ebe1a6-b70d-43e4-ae44-362b3e6dd977"
      },
      "execution_count": 28,
      "outputs": [
        {
          "output_type": "execute_result",
          "data": {
            "text/plain": [
              "<PIL.Image.Image image mode=RGB size=64x64 at 0x7FB26793E750>"
            ],
            "image/png": "[encoded data removed]"
          },
          "metadata": {},
          "execution_count": 28
        }
      ]
    },
    {
      "cell_type": "code",
      "source": [
        "img = tensorflow.keras.utils.load_img(\"/content/drive/MyDrive/Nutrition Image Analysis using CNN and Rapid API/Nutrition Analysis Using Image Classification/Flask/Sample_Images/Test_Image1.jpg\",grayscale=False,target_size= (64,64))\n",
        "x = img_to_array(img)\n",
        "x = np.expand_dims(x,axis = 0)\n",
        "pred =np.argmax(final_model.predict(x),axis=1)\n",
        "pred"
      ],
      "metadata": {
        "colab": {
          "base_uri": "https://localhost:8080/"
        },
        "id": "Q3r9Ls5KBhoa",
        "outputId": "2a07fef9-9ba6-4f0c-8788-30734a25daba"
      },
      "execution_count": 29,
      "outputs": [
        {
          "output_type": "stream",
          "name": "stdout",
          "text": [
            "1/1 [==============================] - 0s 18ms/step\n"
          ]
        },
        {
          "output_type": "execute_result",
          "data": {
            "text/plain": [
              "array([0])"
            ]
          },
          "metadata": {},
          "execution_count": 29
        }
      ]
    },
    {
      "cell_type": "code",
      "source": [
        "result=index[pred[0]]\n",
        "result"
      ],
      "metadata": {
        "colab": {
          "base_uri": "https://localhost:8080/",
          "height": 36
        },
        "id": "JmPHJk3BB1_x",
        "outputId": "7fd68870-958b-4135-fd42-0b9c2c2173ea"
      },
      "execution_count": 30,
      "outputs": [
        {
          "output_type": "execute_result",
          "data": {
            "text/plain": [
              "'APPLES'"
            ],
            "application/vnd.google.colaboratory.intrinsic+json": {
              "type": "string"
            }
          },
          "metadata": {},
          "execution_count": 30
        }
      ]
    },
    {
      "cell_type": "code",
      "source": [
        "img"
      ],
      "metadata": {
        "colab": {
          "base_uri": "https://localhost:8080/",
          "height": 81
        },
        "id": "oYoG0BMgB46r",
        "outputId": "f24e8581-aa7d-41e4-dc4e-9a346aad33c6"
      },
      "execution_count": 31,
      "outputs": [
        {
          "output_type": "execute_result",
          "data": {
            "text/plain": [
              "<PIL.Image.Image image mode=RGB size=64x64 at 0x7FB267004C10>"
            ],
            "image/png": "[encoded data removed]"
          },
          "metadata": {},
          "execution_count": 31
        }
      ]
    },
    {
      "cell_type": "code",
      "source": [
        "img = tensorflow.keras.utils.load_img(\"/content/drive/MyDrive/Nutrition Image Analysis using CNN and Rapid API/Nutrition Analysis Using Image Classification/Flask/Sample_Images/Test_Image5.jpg\",grayscale=False,target_size= (64,64))\n",
        "x = img_to_array(img)\n",
        "x = np.expand_dims(x,axis = 0)\n",
        "pred =np.argmax(final_model.predict(x),axis=1)\n",
        "pred"
      ],
      "metadata": {
        "colab": {
          "base_uri": "https://localhost:8080/"
        },
        "id": "d9NJrZv_uGQA",
        "outputId": "93fd5732-6aa2-4384-9959-722ab5c5dcb2"
      },
      "execution_count": 32,
      "outputs": [
        {
          "output_type": "stream",
          "name": "stdout",
          "text": [
            "1/1 [==============================] - 0s 18ms/step\n"
          ]
        },
        {
          "output_type": "execute_result",
          "data": {
            "text/plain": [
              "array([3])"
            ]
          },
          "metadata": {},
          "execution_count": 32
        }
      ]
    },
    {
      "cell_type": "code",
      "source": [
        "result=index[pred[0]]\n",
        "result"
      ],
      "metadata": {
        "colab": {
          "base_uri": "https://localhost:8080/",
          "height": 36
        },
        "id": "1Ckj1c85uc4k",
        "outputId": "a0c48168-9318-412a-c28d-42f1733f2c7b"
      },
      "execution_count": 33,
      "outputs": [
        {
          "output_type": "execute_result",
          "data": {
            "text/plain": [
              "'PINEAPPLE'"
            ],
            "application/vnd.google.colaboratory.intrinsic+json": {
              "type": "string"
            }
          },
          "metadata": {},
          "execution_count": 33
        }
      ]
    },
    {
      "cell_type": "code",
      "source": [
        "img"
      ],
      "metadata": {
        "colab": {
          "base_uri": "https://localhost:8080/",
          "height": 81
        },
        "id": "wKHi8Gg2ui1R",
        "outputId": "27913617-699e-4737-f549-74920301bb9b"
      },
      "execution_count": 34,
      "outputs": [
        {
          "output_type": "execute_result",
          "data": {
            "text/plain": [
              "<PIL.Image.Image image mode=RGB size=64x64 at 0x7FB265C4EC10>"
            ],
            "image/png": "[encoded data removed]"
          },
          "metadata": {},
          "execution_count": 34
        }
      ]
    }
  ]
}