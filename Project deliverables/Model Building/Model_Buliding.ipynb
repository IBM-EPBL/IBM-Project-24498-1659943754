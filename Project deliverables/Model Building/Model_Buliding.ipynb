{
  "nbformat": 4,
  "nbformat_minor": 0,
  "metadata": {
    "colab": {
      "provenance": []
    },
    "kernelspec": {
      "name": "python3",
      "display_name": "Python 3"
    },
    "language_info": {
      "name": "python"
    }
  },
  "cells": [
    {
      "cell_type": "markdown",
      "source": [
        "# **Load The Dataset**"
      ],
      "metadata": {
        "id": "CxPw0_CclXx6"
      }
    },
    {
      "cell_type": "code",
      "source": [
        "from google.colab import drive\n",
        "drive.mount('/content/drive')"
      ],
      "metadata": {
        "colab": {
          "base_uri": "https://localhost:8080/"
        },
        "id": "-Y8vRXL8bjlM",
        "outputId": "b12ff505-d1db-44e0-d430-c4884b55aede"
      },
      "execution_count": 28,
      "outputs": [
        {
          "output_type": "stream",
          "name": "stdout",
          "text": [
            "Drive already mounted at /content/drive; to attempt to forcibly remount, call drive.mount(\"/content/drive\", force_remount=True).\n"
          ]
        }
      ]
    },
    {
      "cell_type": "code",
      "source": [
        "Data_trainpath='/content/drive/MyDrive/Dataset/TRAIN_SET'"
      ],
      "metadata": {
        "id": "tSxNjOmll50R"
      },
      "execution_count": 29,
      "outputs": []
    },
    {
      "cell_type": "code",
      "source": [
        "Data_testpath='/content/drive/MyDrive/Dataset/TEST_SET'"
      ],
      "metadata": {
        "id": "oTOpzKntmb7g"
      },
      "execution_count": 30,
      "outputs": []
    },
    {
      "cell_type": "markdown",
      "source": [
        "# **Image Preprocessing**"
      ],
      "metadata": {
        "id": "JSldFH1Bk0t8"
      }
    },
    {
      "cell_type": "markdown",
      "source": [
        "**Import The ImageDataGenerator Library**"
      ],
      "metadata": {
        "id": "cqiwcNjpkn2X"
      }
    },
    {
      "cell_type": "code",
      "execution_count": 31,
      "metadata": {
        "id": "Bke9Za3NDJcZ"
      },
      "outputs": [],
      "source": [
        "from keras.preprocessing.image import ImageDataGenerator"
      ]
    },
    {
      "cell_type": "markdown",
      "source": [
        "**Configure ImageDataGenerator Class**"
      ],
      "metadata": {
        "id": "v9vsyGvNk6nr"
      }
    },
    {
      "cell_type": "code",
      "source": [
        "train_datagen = ImageDataGenerator(rescale=1./255,shear_range=0.2,zoom_range=0.2,horizontal_flip=True)\n"
      ],
      "metadata": {
        "id": "zBZ8xXk0R41_"
      },
      "execution_count": 32,
      "outputs": []
    },
    {
      "cell_type": "code",
      "source": [
        "test_datagen=ImageDataGenerator(rescale=1./255)"
      ],
      "metadata": {
        "id": "VkgXdlDRZ2fp"
      },
      "execution_count": 33,
      "outputs": []
    },
    {
      "cell_type": "markdown",
      "source": [
        "**Apply Image DataGenerator Functionality To Trainset And Testset**"
      ],
      "metadata": {
        "id": "ZIJWKOfOlxFH"
      }
    },
    {
      "cell_type": "code",
      "source": [
        "x_train = train_datagen.flow_from_directory(Data_trainpath,target_size=(64,64),batch_size=5,color_mode='rgb',class_mode='sparse')"
      ],
      "metadata": {
        "colab": {
          "base_uri": "https://localhost:8080/"
        },
        "id": "LrBKPD2gmmrA",
        "outputId": "f6668ca7-6b8f-499a-dae7-f1d218356783"
      },
      "execution_count": 34,
      "outputs": [
        {
          "output_type": "stream",
          "name": "stdout",
          "text": [
            "Found 3388 images belonging to 3 classes.\n"
          ]
        }
      ]
    },
    {
      "cell_type": "code",
      "source": [
        "x_test = train_datagen.flow_from_directory(Data_testpath,target_size=(64,64),batch_size=5,color_mode='rgb',class_mode='sparse')"
      ],
      "metadata": {
        "colab": {
          "base_uri": "https://localhost:8080/"
        },
        "id": "ORvPGhhXnXUp",
        "outputId": "643ae0ca-edac-4c90-da8a-cc1582bb1313"
      },
      "execution_count": 35,
      "outputs": [
        {
          "output_type": "stream",
          "name": "stdout",
          "text": [
            "Found 929 images belonging to 3 classes.\n"
          ]
        }
      ]
    },
    {
      "cell_type": "code",
      "source": [
        "print(x_train.class_indices)"
      ],
      "metadata": {
        "colab": {
          "base_uri": "https://localhost:8080/"
        },
        "id": "SClY7lpu7923",
        "outputId": "bb9f9eb9-933d-4784-e544-fc9f104740ce"
      },
      "execution_count": 36,
      "outputs": [
        {
          "output_type": "stream",
          "name": "stdout",
          "text": [
            "{'APPLES': 0, 'BANANA': 1, 'ORANGE': 2}\n"
          ]
        }
      ]
    },
    {
      "cell_type": "code",
      "source": [
        "print(x_test.class_indices)"
      ],
      "metadata": {
        "colab": {
          "base_uri": "https://localhost:8080/"
        },
        "id": "fevuinc48VFy",
        "outputId": "45669468-4f80-4d41-dac7-ff7183269a8e"
      },
      "execution_count": 37,
      "outputs": [
        {
          "output_type": "stream",
          "name": "stdout",
          "text": [
            "{'APPLES': 0, 'BANANA': 1, 'ORANGE': 2}\n"
          ]
        }
      ]
    },
    {
      "cell_type": "code",
      "source": [
        "from collections import Counter as c \n",
        "c(x_train .labels)"
      ],
      "metadata": {
        "colab": {
          "base_uri": "https://localhost:8080/"
        },
        "id": "4jakjf-z8hfi",
        "outputId": "86ad0dbc-df43-4775-fed0-5ad79c5ce526"
      },
      "execution_count": 38,
      "outputs": [
        {
          "output_type": "execute_result",
          "data": {
            "text/plain": [
              "Counter({0: 995, 1: 1374, 2: 1019})"
            ]
          },
          "metadata": {},
          "execution_count": 38
        }
      ]
    },
    {
      "cell_type": "markdown",
      "source": [
        "# **Model Building**"
      ],
      "metadata": {
        "id": "KO7uQFt7l9CH"
      }
    },
    {
      "cell_type": "markdown",
      "source": [
        "**Importing The Model Building Libraries**"
      ],
      "metadata": {
        "id": "vYeWwmC1l7om"
      }
    },
    {
      "cell_type": "code",
      "source": [
        "import numpy as np\n",
        "import tensorflow\n",
        "from tensorflow.keras.models import Sequential \n",
        "from tensorflow.keras import layers \n",
        "from tensorflow.keras.layers import Dense,Flatten\n",
        "from tensorflow.keras.layers import Conv2D,MaxPooling2D,Dropout\n",
        "from keras.preprocessing.image import ImageDataGenerator"
      ],
      "metadata": {
        "id": "3VAQlDbSkPJ5"
      },
      "execution_count": 39,
      "outputs": []
    },
    {
      "cell_type": "markdown",
      "source": [
        "**Initializing The Model**"
      ],
      "metadata": {
        "id": "pfA5UpHcmGgC"
      }
    },
    {
      "cell_type": "code",
      "source": [
        "model=Sequential()"
      ],
      "metadata": {
        "id": "p-PndI22k_rK"
      },
      "execution_count": 40,
      "outputs": []
    },
    {
      "cell_type": "markdown",
      "source": [
        "**Adding CNN Layers**"
      ],
      "metadata": {
        "id": "ynad1NeEmKQM"
      }
    },
    {
      "cell_type": "markdown",
      "source": [
        "First Convolution Layer and pooling"
      ],
      "metadata": {
        "id": "4MHPc8xmmrIN"
      }
    },
    {
      "cell_type": "code",
      "source": [
        "model.add(Conv2D(32, (3, 3), input_shape=(64, 64, 3), activation='relu'))\n",
        "model.add(MaxPooling2D(pool_size=(2, 2)))"
      ],
      "metadata": {
        "id": "BKGpawy7lQkV"
      },
      "execution_count": 41,
      "outputs": []
    },
    {
      "cell_type": "markdown",
      "source": [
        "Second Convolution Layer and pooling"
      ],
      "metadata": {
        "id": "4FljqXn6m1Qd"
      }
    },
    {
      "cell_type": "code",
      "source": [
        "model.add(Conv2D(32, (3, 3), activation='relu'))\n",
        "model.add(MaxPooling2D(pool_size=(2, 2)))"
      ],
      "metadata": {
        "id": "8J-doKUpmbP1"
      },
      "execution_count": 42,
      "outputs": []
    },
    {
      "cell_type": "markdown",
      "source": [
        "Flatten layer"
      ],
      "metadata": {
        "id": "NHi6eI8KnHFf"
      }
    },
    {
      "cell_type": "code",
      "source": [
        "model.add(Flatten())"
      ],
      "metadata": {
        "id": "toe6m0svmjfS"
      },
      "execution_count": 43,
      "outputs": []
    },
    {
      "cell_type": "markdown",
      "source": [
        "**Adding Dense Layers**"
      ],
      "metadata": {
        "id": "_VzTvuzvnPYA"
      }
    },
    {
      "cell_type": "code",
      "source": [
        "model.add(Dense(units=128, activation='relu'))\n",
        "model.add(Dense(units=5, activation='softmax')) "
      ],
      "metadata": {
        "id": "wSA28Ny8jH1x"
      },
      "execution_count": 44,
      "outputs": []
    },
    {
      "cell_type": "code",
      "source": [
        "model.summary()"
      ],
      "metadata": {
        "colab": {
          "base_uri": "https://localhost:8080/"
        },
        "id": "dxE_T7A8lgsX",
        "outputId": "cf060b94-41fe-4757-a8b8-e846aa30ea02"
      },
      "execution_count": 45,
      "outputs": [
        {
          "output_type": "stream",
          "name": "stdout",
          "text": [
            "Model: \"sequential_1\"\n",
            "_________________________________________________________________\n",
            " Layer (type)                Output Shape              Param #   \n",
            "=================================================================\n",
            " conv2d_2 (Conv2D)           (None, 62, 62, 32)        896       \n",
            "                                                                 \n",
            " max_pooling2d_2 (MaxPooling  (None, 31, 31, 32)       0         \n",
            " 2D)                                                             \n",
            "                                                                 \n",
            " conv2d_3 (Conv2D)           (None, 29, 29, 32)        9248      \n",
            "                                                                 \n",
            " max_pooling2d_3 (MaxPooling  (None, 14, 14, 32)       0         \n",
            " 2D)                                                             \n",
            "                                                                 \n",
            " flatten_1 (Flatten)         (None, 6272)              0         \n",
            "                                                                 \n",
            " dense_2 (Dense)             (None, 128)               802944    \n",
            "                                                                 \n",
            " dense_3 (Dense)             (None, 5)                 645       \n",
            "                                                                 \n",
            "=================================================================\n",
            "Total params: 813,733\n",
            "Trainable params: 813,733\n",
            "Non-trainable params: 0\n",
            "_________________________________________________________________\n"
          ]
        }
      ]
    },
    {
      "cell_type": "markdown",
      "source": [
        "**Configure The Learning Process**"
      ],
      "metadata": {
        "id": "I8XJZfmEnXk-"
      }
    },
    {
      "cell_type": "code",
      "source": [
        "model.compile(optimizer='adam', loss='sparse_categorical_crossentropy', metrics=['accuracy']) "
      ],
      "metadata": {
        "id": "U2-NoqV2lrRL"
      },
      "execution_count": 46,
      "outputs": []
    },
    {
      "cell_type": "markdown",
      "source": [
        "**Train The Model**"
      ],
      "metadata": {
        "id": "N2LEjv9QncAP"
      }
    },
    {
      "cell_type": "code",
      "source": [
        "model.fit_generator(\n",
        "        generator=x_train,steps_per_epoch = len(x_train),\n",
        "        epochs=15, validation_data=x_test,validation_steps = len(x_test))"
      ],
      "metadata": {
        "colab": {
          "base_uri": "https://localhost:8080/"
        },
        "id": "AfktotNdlxKA",
        "outputId": "d54a5fa4-c6e6-43b3-fc0b-94eb8fd39d06"
      },
      "execution_count": 47,
      "outputs": [
        {
          "output_type": "stream",
          "name": "stdout",
          "text": [
            "Epoch 1/15\n"
          ]
        },
        {
          "output_type": "stream",
          "name": "stderr",
          "text": [
            "/usr/local/lib/python3.7/dist-packages/ipykernel_launcher.py:3: UserWarning: `Model.fit_generator` is deprecated and will be removed in a future version. Please use `Model.fit`, which supports generators.\n",
            "  This is separate from the ipykernel package so we can avoid doing imports until\n"
          ]
        },
        {
          "output_type": "stream",
          "name": "stdout",
          "text": [
            "678/678 [==============================] - 45s 65ms/step - loss: 0.6178 - accuracy: 0.7491 - val_loss: 0.5399 - val_accuracy: 0.7933\n",
            "Epoch 2/15\n",
            "678/678 [==============================] - 40s 59ms/step - loss: 0.5052 - accuracy: 0.8061 - val_loss: 0.5715 - val_accuracy: 0.7621\n",
            "Epoch 3/15\n",
            "678/678 [==============================] - 38s 56ms/step - loss: 0.4508 - accuracy: 0.8267 - val_loss: 0.4669 - val_accuracy: 0.8159\n",
            "Epoch 4/15\n",
            "678/678 [==============================] - 39s 58ms/step - loss: 0.4211 - accuracy: 0.8388 - val_loss: 0.4147 - val_accuracy: 0.8288\n",
            "Epoch 5/15\n",
            "678/678 [==============================] - 39s 58ms/step - loss: 0.3935 - accuracy: 0.8430 - val_loss: 0.4079 - val_accuracy: 0.8461\n",
            "Epoch 6/15\n",
            "678/678 [==============================] - 40s 59ms/step - loss: 0.3715 - accuracy: 0.8563 - val_loss: 0.4329 - val_accuracy: 0.8385\n",
            "Epoch 7/15\n",
            "678/678 [==============================] - 40s 59ms/step - loss: 0.3706 - accuracy: 0.8586 - val_loss: 0.4094 - val_accuracy: 0.8471\n",
            "Epoch 8/15\n",
            "678/678 [==============================] - 39s 58ms/step - loss: 0.3372 - accuracy: 0.8769 - val_loss: 0.4114 - val_accuracy: 0.8439\n",
            "Epoch 9/15\n",
            "678/678 [==============================] - 36s 53ms/step - loss: 0.3398 - accuracy: 0.8707 - val_loss: 0.3861 - val_accuracy: 0.8536\n",
            "Epoch 10/15\n",
            "678/678 [==============================] - 38s 56ms/step - loss: 0.3033 - accuracy: 0.8849 - val_loss: 0.3829 - val_accuracy: 0.8644\n",
            "Epoch 11/15\n",
            "678/678 [==============================] - 38s 57ms/step - loss: 0.3018 - accuracy: 0.8825 - val_loss: 0.3850 - val_accuracy: 0.8708\n",
            "Epoch 12/15\n",
            "678/678 [==============================] - 39s 58ms/step - loss: 0.2626 - accuracy: 0.8949 - val_loss: 0.3732 - val_accuracy: 0.8859\n",
            "Epoch 13/15\n",
            "678/678 [==============================] - 40s 59ms/step - loss: 0.2537 - accuracy: 0.9041 - val_loss: 0.3889 - val_accuracy: 0.8687\n",
            "Epoch 14/15\n",
            "678/678 [==============================] - 40s 60ms/step - loss: 0.2613 - accuracy: 0.9070 - val_loss: 0.4369 - val_accuracy: 0.8536\n",
            "Epoch 15/15\n",
            "678/678 [==============================] - 39s 57ms/step - loss: 0.2185 - accuracy: 0.9150 - val_loss: 0.4318 - val_accuracy: 0.8547\n"
          ]
        },
        {
          "output_type": "execute_result",
          "data": {
            "text/plain": [
              "<keras.callbacks.History at 0x7f06427a8fd0>"
            ]
          },
          "metadata": {},
          "execution_count": 47
        }
      ]
    },
    {
      "cell_type": "markdown",
      "source": [
        "**Save The Model**"
      ],
      "metadata": {
        "id": "X6azBl9onlB8"
      }
    },
    {
      "cell_type": "code",
      "source": [
        "model.save('nutrition.h5')"
      ],
      "metadata": {
        "id": "ErL5stYBmH6q"
      },
      "execution_count": 48,
      "outputs": []
    },
    {
      "cell_type": "markdown",
      "source": [
        "**Test The Model**"
      ],
      "metadata": {
        "id": "dBM_2h4znpk1"
      }
    },
    {
      "cell_type": "code",
      "source": [
        "from tensorflow.keras.models import load_model\n",
        "from keras.preprocessing import image\n",
        "final_model = load_model(\"nutrition.h5\")"
      ],
      "metadata": {
        "id": "ggh6RjMBmLFU"
      },
      "execution_count": 49,
      "outputs": []
    },
    {
      "cell_type": "code",
      "source": [
        "from tensorflow.keras.utils import img_to_array"
      ],
      "metadata": {
        "id": "VxTRKv0arS65"
      },
      "execution_count": 50,
      "outputs": []
    },
    {
      "cell_type": "code",
      "source": [
        "img = tensorflow.keras.utils.load_img(\"/content/drive/MyDrive/Nutrition Image Analysis using CNN and Rapid API/Nutrition Analysis Using Image Classification/Flask/Sample_Images/Test_Image4.jpg\",grayscale=False,target_size= (64,64))\n",
        "x = img_to_array(img)\n",
        "x = np.expand_dims(x,axis = 0)\n",
        "pred =np.argmax(final_model.predict(x),axis=1)\n",
        "pred"
      ],
      "metadata": {
        "colab": {
          "base_uri": "https://localhost:8080/"
        },
        "id": "cLF01mUjmOvZ",
        "outputId": "9248688e-91a0-4ae6-f02f-dc7a250f9451"
      },
      "execution_count": 51,
      "outputs": [
        {
          "output_type": "stream",
          "name": "stdout",
          "text": [
            "1/1 [==============================] - 0s 115ms/step\n"
          ]
        },
        {
          "output_type": "execute_result",
          "data": {
            "text/plain": [
              "array([2])"
            ]
          },
          "metadata": {},
          "execution_count": 51
        }
      ]
    },
    {
      "cell_type": "code",
      "source": [
        "index=['APPLES', 'BANANA', 'ORANGE']\n",
        "result=index[pred[0]]\n",
        "result"
      ],
      "metadata": {
        "colab": {
          "base_uri": "https://localhost:8080/",
          "height": 36
        },
        "id": "O_e9b2iDnXDV",
        "outputId": "3f96b2c4-19a3-4b25-e5e4-873cabe117eb"
      },
      "execution_count": 52,
      "outputs": [
        {
          "output_type": "execute_result",
          "data": {
            "text/plain": [
              "'ORANGE'"
            ],
            "application/vnd.google.colaboratory.intrinsic+json": {
              "type": "string"
            }
          },
          "metadata": {},
          "execution_count": 52
        }
      ]
    },
    {
      "cell_type": "code",
      "source": [
        "img"
      ],
      "metadata": {
        "colab": {
          "base_uri": "https://localhost:8080/",
          "height": 81
        },
        "id": "8Aw1M3Kp0tm3",
        "outputId": "ffede8ed-72d0-46ff-c909-9307cf80e10e"
      },
      "execution_count": 53,
      "outputs": [
        {
          "output_type": "execute_result",
          "data": {
            "text/plain": [
              "<PIL.Image.Image image mode=RGB size=64x64 at 0x7F0648B809D0>"
            ],
            "image/png": "[encoded data removed]"
          },
          "metadata": {},
          "execution_count": 53
        }
      ]
    },
    {
      "cell_type": "code",
      "source": [
        "img = tensorflow.keras.utils.load_img(\"/content/drive/MyDrive/Nutrition Image Analysis using CNN and Rapid API/Nutrition Analysis Using Image Classification/Flask/Sample_Images/Test_Image1.jpg\",grayscale=False,target_size= (64,64))\n",
        "x = img_to_array(img)\n",
        "x = np.expand_dims(x,axis = 0)\n",
        "pred =np.argmax(final_model.predict(x),axis=1)\n",
        "pred"
      ],
      "metadata": {
        "colab": {
          "base_uri": "https://localhost:8080/"
        },
        "id": "Q3r9Ls5KBhoa",
        "outputId": "09d7b2f1-38ce-491e-b667-a6f19d344cde"
      },
      "execution_count": 57,
      "outputs": [
        {
          "output_type": "stream",
          "name": "stdout",
          "text": [
            "1/1 [==============================] - 0s 21ms/step\n"
          ]
        },
        {
          "output_type": "execute_result",
          "data": {
            "text/plain": [
              "array([0])"
            ]
          },
          "metadata": {},
          "execution_count": 57
        }
      ]
    },
    {
      "cell_type": "code",
      "source": [
        "index=['APPLES', 'BANANA', 'ORANGE']\n",
        "result=index[pred[0]]\n",
        "result"
      ],
      "metadata": {
        "colab": {
          "base_uri": "https://localhost:8080/",
          "height": 36
        },
        "id": "JmPHJk3BB1_x",
        "outputId": "60b9f1c9-608c-41e5-8a55-ea133eb627d6"
      },
      "execution_count": 58,
      "outputs": [
        {
          "output_type": "execute_result",
          "data": {
            "text/plain": [
              "'APPLES'"
            ],
            "application/vnd.google.colaboratory.intrinsic+json": {
              "type": "string"
            }
          },
          "metadata": {},
          "execution_count": 58
        }
      ]
    },
    {
      "cell_type": "code",
      "source": [
        "img"
      ],
      "metadata": {
        "colab": {
          "base_uri": "https://localhost:8080/",
          "height": 81
        },
        "id": "oYoG0BMgB46r",
        "outputId": "b756ae78-4b9a-4493-c3f4-4d19232b3bb8"
      },
      "execution_count": 59,
      "outputs": [
        {
          "output_type": "execute_result",
          "data": {
            "text/plain": [
              "<PIL.Image.Image image mode=RGB size=64x64 at 0x7F063D986F90>"
            ],
            "image/png": "[encoded data removed]"
          },
          "metadata": {},
          "execution_count": 59
        }
      ]
    }
  ]
}